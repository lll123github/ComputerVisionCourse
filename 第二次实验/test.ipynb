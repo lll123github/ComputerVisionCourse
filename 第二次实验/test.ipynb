{
 "cells": [
  {
   "cell_type": "code",
   "execution_count": 2,
   "metadata": {},
   "outputs": [
    {
     "name": "stdout",
     "output_type": "stream",
     "text": [
      "(0,) 1\n",
      "<class 'tuple'>\n",
      "(1,) 2\n",
      "<class 'tuple'>\n",
      "(2,) 3\n",
      "<class 'tuple'>\n",
      "(3,) 4\n",
      "<class 'tuple'>\n",
      "(4,) 5\n",
      "<class 'tuple'>\n",
      "(5,) 6\n",
      "<class 'tuple'>\n"
     ]
    }
   ],
   "source": [
    "import numpy as np\n",
    "array = np.array([1, 2, 3, 4, 5, 6])\n",
    "for i, x in np.ndenumerate(array):\n",
    "    print(i, x)\n",
    "    print(type(i))"
   ]
  }
 ],
 "metadata": {
  "kernelspec": {
   "display_name": "Python 3",
   "language": "python",
   "name": "python3"
  },
  "language_info": {
   "codemirror_mode": {
    "name": "ipython",
    "version": 3
   },
   "file_extension": ".py",
   "mimetype": "text/x-python",
   "name": "python",
   "nbconvert_exporter": "python",
   "pygments_lexer": "ipython3",
   "version": "3.10.5"
  }
 },
 "nbformat": 4,
 "nbformat_minor": 2
}
