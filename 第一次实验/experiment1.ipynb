{
 "cells": [
  {
   "cell_type": "code",
   "execution_count": 42,
   "metadata": {},
   "outputs": [
    {
     "name": "stdout",
     "output_type": "stream",
     "text": [
      "image_size：(384, 384)\n"
     ]
    }
   ],
   "source": [
    "from PIL import Image\n",
    "import numpy as np\n",
    "image_path='./图片.png'\n",
    "image=Image.open(image_path)\n",
    "print(f\"image_size：{image.size}\")"
   ]
  },
  {
   "cell_type": "code",
   "execution_count": 43,
   "metadata": {},
   "outputs": [
    {
     "name": "stdout",
     "output_type": "stream",
     "text": [
      "[[159 145 158 ... 149 155 149]\n",
      " [157 161 154 ... 152 150 154]\n",
      " [156 148 162 ... 147 154 150]\n",
      " ...\n",
      " [162 159 165 ... 149 156 145]\n",
      " [155 168 151 ... 158 145 149]\n",
      " [156 162 151 ... 158 152 167]]\n"
     ]
    }
   ],
   "source": [
    "cols,rows=image.size\n",
    "image=image.convert('L')\n",
    "image_array=np.array(image)\n",
    "print(image_array)"
   ]
  },
  {
   "cell_type": "code",
   "execution_count": 44,
   "metadata": {},
   "outputs": [
    {
     "name": "stdout",
     "output_type": "stream",
     "text": [
      "[ 696    3    3    9   23   39   70  120  201  324  453  659  989 1257\n",
      " 1566 1952 2299 2594 2869 3024 2910 2879 2634 2395 2047 1566 1281  977\n",
      "  717  497  362  217  127   77   49   25   13    5    1    2    1    0\n",
      "    0    0    0    0    0    0    0    0    0    0    0    0    0    0\n",
      "    0    0    0    0    0    0    0    0    0    0    0    0    0    0\n",
      "    0    0    0    0    0    0    0    0    0    0    0    0    0    0\n",
      "    0    0    0    0    0    0    0    0    0    0    0    0    0    0\n",
      "    0    0    0    0    0    0    0    0    0    0    0    0    0    0\n",
      "    0    0    0    0    0    0    0    0    0    0    0    0    0    0\n",
      "    0    0    0    0    0    0    0    0    0    5    6   18   38   90\n",
      "  122  228  407  624  991 1438 2002 2813 3791 4777 5793 6791 7796 8134\n",
      " 8735 8623 8219 7650 6729 5707 4711 3672 2810 2072 1440 1004  625  384\n",
      "  235  118  101   45   22   11    5    0    0    0    0    0    0    0\n",
      "    0    0    0    0    0    0    0    0    0    0    0    0    0    0\n",
      "    0    0    0    0    0    0    0    0    0    0    0    0    0    0\n",
      "    0    0    0    0    0    0    0    0    0    0    0    0    0    0\n",
      "    0    0    0    0    0    0    0    0    0    0    0    0    0    0\n",
      "    0    0    0    0    0    0    0    0    0    0    0    0    0    0\n",
      "    0    0    0  742]\n"
     ]
    }
   ],
   "source": [
    "gray_levels:np.array=np.zeros(256,dtype=int)\n",
    "for row_array in image_array:\n",
    "    for col_gray_level in row_array:\n",
    "        gray_levels[col_gray_level]=gray_levels[col_gray_level]+1\n",
    "print(gray_levels)"
   ]
  },
  {
   "cell_type": "code",
   "execution_count": 45,
   "metadata": {},
   "outputs": [],
   "source": [
    "gray_levels[0]=0\n",
    "gray_levels[255]=0"
   ]
  },
  {
   "cell_type": "markdown",
   "metadata": {},
   "source": [
    "可以将前半段视为前景，将后半段视为背景？\n",
    "前景，数量最多的像素位置在19（3024）；背景，数量最多的像素位置在154（8735）"
   ]
  },
  {
   "cell_type": "code",
   "execution_count": 46,
   "metadata": {},
   "outputs": [
    {
     "name": "stdout",
     "output_type": "stream",
     "text": [
      "back_max_position：154\n",
      "front_max_position：19\n",
      "77\n"
     ]
    }
   ],
   "source": [
    "back_max_position=np.argmax(gray_levels)\n",
    "tmp_divide=back_max_position//2\n",
    "front_max_position=np.argmax(gray_levels[0:tmp_divide])\n",
    "print(f\"back_max_position：{back_max_position}\")\n",
    "print(f\"front_max_position：{front_max_position}\")\n",
    "print(tmp_divide)"
   ]
  },
  {
   "cell_type": "markdown",
   "metadata": {},
   "source": [
    "对背景进行估计（最大似然）"
   ]
  },
  {
   "cell_type": "code",
   "execution_count": 47,
   "metadata": {},
   "outputs": [],
   "source": [
    "def calculate(level_arr:np.ndarray,gray_move=0)->list:\n",
    "    num=0\n",
    "    gray_sum=0.0\n",
    "    square_sum=0.0\n",
    "    for gray_level,level_num in enumerate(level_arr):\n",
    "        gray_level=gray_level+gray_move\n",
    "        num=num+level_num\n",
    "        gray_sum=gray_sum+level_num*gray_level\n",
    "    u=gray_sum/num\n",
    "    for gray_level,level_num in enumerate(level_arr):\n",
    "        gray_level=gray_level+gray_move\n",
    "        tmp_diff=gray_level-u\n",
    "        square_sum=square_sum+level_num*tmp_diff*tmp_diff\n",
    "    var=square_sum/num\n",
    "    return [u,var]"
   ]
  },
  {
   "cell_type": "code",
   "execution_count": 48,
   "metadata": {},
   "outputs": [
    {
     "name": "stdout",
     "output_type": "stream",
     "text": [
      "前景像素灰度平均值为：154.48991561103858\n",
      "前景像素灰度方差为：25.21353199449642\n",
      "后景像素灰度平均值为：19.576887957890214\n",
      "后景像素灰度方差为：24.717662202614672\n"
     ]
    }
   ],
   "source": [
    "[front_u,front_var]=calculate(gray_levels[tmp_divide:256],gray_move=tmp_divide)\n",
    "[back_u,back_var]=calculate(gray_levels[0:tmp_divide])\n",
    "print(f\"前景像素灰度平均值为：{front_u}\")\n",
    "print(f\"前景像素灰度方差为：{front_var}\")\n",
    "print(f\"后景像素灰度平均值为：{back_u}\")\n",
    "print(f\"后景像素灰度方差为：{back_var}\")"
   ]
  },
  {
   "cell_type": "markdown",
   "metadata": {},
   "source": [
    "舍友提出了使用最小二乘法拟合的方法"
   ]
  }
 ],
 "metadata": {
  "kernelspec": {
   "display_name": "Python 3",
   "language": "python",
   "name": "python3"
  },
  "language_info": {
   "codemirror_mode": {
    "name": "ipython",
    "version": 3
   },
   "file_extension": ".py",
   "mimetype": "text/x-python",
   "name": "python",
   "nbconvert_exporter": "python",
   "pygments_lexer": "ipython3",
   "version": "3.10.5"
  },
  "orig_nbformat": 4
 },
 "nbformat": 4,
 "nbformat_minor": 2
}
